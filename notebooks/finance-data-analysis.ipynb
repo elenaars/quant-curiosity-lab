{
 "cells": [
  {
   "cell_type": "code",
   "execution_count": null,
   "id": "a84ab1bd",
   "metadata": {},
   "outputs": [],
   "source": [
    "import yfinance as yf\n",
    "import pandas as pd\n",
    "import matplotlib.pyplot as plt"
   ]
  },
  {
   "cell_type": "code",
   "execution_count": null,
   "id": "d3a4be3d",
   "metadata": {},
   "outputs": [],
   "source": [
    "# download S&P 500 data pricing hystory for 5 years\n",
    "\n",
    "sp500 = yf.download('^GSPC', period='5y')\n",
    "sp500.head()"
   ]
  },
  {
   "cell_type": "code",
   "execution_count": null,
   "id": "ff27631c",
   "metadata": {},
   "outputs": [],
   "source": [
    "# sliding mean analysis\n",
    "\n",
    "sp500['SMA_50'] = sp500['Close'].rolling(window=50).mean()\n",
    "sp500['SMA_200'] = sp500['Close'].rolling(window=200).mean()\n",
    "\n",
    "# Plotting the closing price and the moving averages\n",
    "plt.figure(figsize=(14, 7))\n",
    "plt.plot(sp500['Close'], label='S&P 500 Close Price', color='blue')\n",
    "plt.plot(sp500['SMA_50'], label='50-Day SMA', color='orange')\n",
    "plt.plot(sp500['SMA_200'], label='200-Day SMA', color='red')\n",
    "plt.title('S&P 500 Closing Price and Moving Averages')\n",
    "plt.xlabel('Date')\n",
    "plt.ylabel('Price')\n",
    "plt.legend()\n",
    "plt.grid()\n",
    "plt.show()\n"
   ]
  },
  {
   "cell_type": "code",
   "execution_count": null,
   "id": "36f813ce",
   "metadata": {},
   "outputs": [],
   "source": [
    "# compute the daily returns\n",
    "sp500['Daily Return'] = sp500['Close'].pct_change()\n",
    "print(sp500['Daily Return'].describe())\n",
    "# Plotting the daily returns\n",
    "plt.figure(figsize=(14, 7))\n",
    "plt.plot(sp500['Daily Return'], label='Daily Return', color='green')\n",
    "plt.title('S&P 500 Daily Returns')\n",
    "plt.xlabel('Date')\n",
    "plt.ylabel('Daily Return')\n",
    "plt.legend()\n",
    "plt.grid()\n",
    "plt.show()"
   ]
  },
  {
   "cell_type": "code",
   "execution_count": null,
   "id": "d61b3204",
   "metadata": {},
   "outputs": [],
   "source": [
    "# compute cumuilative returns\n",
    "sp500['Cumulative Return'] = (1 + sp500['Daily Return']).cumprod()\n",
    "print(sp500['Cumulative Return'].describe())\n",
    "# Plotting the cumulative returns\n",
    "plt.figure(figsize=(14, 7))\n",
    "plt.plot(sp500['Cumulative Return'], label='Cumulative Return', color='purple')\n",
    "plt.title('S&P 500 Cumulative Returns')\n",
    "plt.xlabel('Date')\n",
    "plt.ylabel('Cumulative Return')\n",
    "plt.legend()\n",
    "plt.grid()\n",
    "plt.show()"
   ]
  },
  {
   "cell_type": "code",
   "execution_count": null,
   "id": "3c2246f2",
   "metadata": {},
   "outputs": [],
   "source": [
    "# compute rolling volatility\n",
    "sp500['Rolling Volatility'] = sp500['Daily Return'].rolling(window=21).std() * (252 ** 0.5)  # Annualized volatility\n",
    "print(sp500['Rolling Volatility'].describe())\n",
    "\n",
    "# Plotting the rolling volatility and MAD\n",
    "plt.figure(figsize=(14, 7))\n",
    "plt.plot(sp500['Rolling Volatility'], label='Rolling Volatility (Annualized)', color='brown')\n",
    "plt.title('S&P 500 Rolling Volatility (Annualized)')\n",
    "plt.xlabel('Date')\n",
    "plt.ylabel('Volatility')\n",
    "plt.legend()\n",
    "plt.grid()\n",
    "plt.show()  "
   ]
  },
  {
   "cell_type": "code",
   "execution_count": null,
   "id": "beeb912e",
   "metadata": {},
   "outputs": [],
   "source": [
    "# compute MAD and quantiles\n",
    "sp500['MAD'] = sp500['Close'].rolling(window=50).apply(lambda x: (x - x.mean()).abs().mean())\n",
    "print(sp500['MAD'].describe())\n",
    "# Plotting the Mean Absolute Deviation (MAD)\n",
    "plt.figure(figsize=(14, 7))\n",
    "plt.plot(sp500['MAD'], label='Mean Absolute Deviation (MAD)', color='cyan')\n",
    "plt.title('S&P 500 Mean Absolute Deviation (MAD)')\n",
    "plt.xlabel('Date')\n",
    "plt.ylabel('MAD')\n",
    "plt.legend()\n",
    "plt.grid()\n",
    "plt.show()      "
   ]
  }
 ],
 "metadata": {
  "kernelspec": {
   "display_name": ".venv",
   "language": "python",
   "name": "python3"
  },
  "language_info": {
   "codemirror_mode": {
    "name": "ipython",
    "version": 3
   },
   "file_extension": ".py",
   "mimetype": "text/x-python",
   "name": "python",
   "nbconvert_exporter": "python",
   "pygments_lexer": "ipython3",
   "version": "3.12.3"
  }
 },
 "nbformat": 4,
 "nbformat_minor": 5
}
