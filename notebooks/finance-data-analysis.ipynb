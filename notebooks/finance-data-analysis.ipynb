{
 "cells": [
  {
   "cell_type": "code",
   "execution_count": null,
   "id": "a84ab1bd",
   "metadata": {},
   "outputs": [],
   "source": [
    "import yfinance as yf\n",
    "import pandas as pd\n",
    "import matplotlib.pyplot as plt"
   ]
  },
  {
   "cell_type": "code",
   "execution_count": null,
   "id": "d3a4be3d",
   "metadata": {},
   "outputs": [],
   "source": [
    "# download S&P 500 data pricing hystory for 5 years\n",
    "\n",
    "sp500 = yf.download('^GSPC', period='5y')\n",
    "sp500.head()"
   ]
  },
  {
   "cell_type": "code",
   "execution_count": null,
   "id": "ff27631c",
   "metadata": {},
   "outputs": [],
   "source": [
    "# sliding mean analysis\n",
    "\n",
    "sp500['SMA_50'] = sp500['Close'].rolling(window=50).mean()\n",
    "sp500['SMA_200'] = sp500['Close'].rolling(window=200).mean()\n",
    "\n",
    "# Plotting the closing price and the moving averages\n",
    "plt.figure(figsize=(14, 7))\n",
    "plt.plot(sp500['Close'], label='S&P 500 Close Price', color='blue')\n",
    "plt.plot(sp500['SMA_50'], label='50-Day SMA', color='orange')\n",
    "plt.plot(sp500['SMA_200'], label='200-Day SMA', color='red')\n",
    "plt.title('S&P 500 Closing Price and Moving Averages')\n",
    "plt.xlabel('Date')\n",
    "plt.ylabel('Price')\n",
    "plt.legend()\n",
    "plt.grid()\n",
    "plt.show()\n"
   ]
  },
  {
   "cell_type": "code",
   "execution_count": null,
   "id": "36f813ce",
   "metadata": {},
   "outputs": [],
   "source": [
    "# compute the daily returns\n",
    "sp500['Daily Return'] = sp500['Close'].pct_change()\n",
    "print(sp500['Daily Return'].describe())\n",
    "# Plotting the daily returns\n",
    "plt.figure(figsize=(14, 7))\n",
    "plt.plot(sp500['Daily Return'], label='Daily Return', color='green')\n",
    "plt.title('S&P 500 Daily Returns')\n",
    "plt.xlabel('Date')\n",
    "plt.ylabel('Daily Return')\n",
    "plt.legend()\n",
    "plt.grid()\n",
    "plt.show()"
   ]
  },
  {
   "cell_type": "code",
   "execution_count": null,
   "id": "d61b3204",
   "metadata": {},
   "outputs": [],
   "source": [
    "# compute cumuilative returns\n",
    "sp500['Cumulative Return'] = (1 + sp500['Daily Return']).cumprod()\n",
    "print(sp500['Cumulative Return'].describe())\n",
    "# Plotting the cumulative returns\n",
    "plt.figure(figsize=(14, 7))\n",
    "plt.plot(sp500['Cumulative Return'], label='Cumulative Return', color='purple')\n",
    "plt.title('S&P 500 Cumulative Returns')\n",
    "plt.xlabel('Date')\n",
    "plt.ylabel('Cumulative Return')\n",
    "plt.legend()\n",
    "plt.grid()\n",
    "plt.show()"
   ]
  },
  {
   "cell_type": "code",
   "execution_count": null,
   "id": "3c2246f2",
   "metadata": {},
   "outputs": [],
   "source": [
    "# compute rolling volatility\n",
    "sp500['Rolling Volatility'] = sp500['Daily Return'].rolling(window=21).std() * (252 ** 0.5)  # Annualized volatility\n",
    "print(sp500['Rolling Volatility'].describe())\n",
    "\n",
    "# Plotting the rolling volatility and MAD\n",
    "plt.figure(figsize=(14, 7))\n",
    "plt.plot(sp500['Rolling Volatility'], label='Rolling Volatility (Annualized)', color='brown')\n",
    "plt.title('S&P 500 Rolling Volatility (Annualized)')\n",
    "plt.xlabel('Date')\n",
    "plt.ylabel('Volatility')\n",
    "plt.legend()\n",
    "plt.grid()\n",
    "plt.show()  "
   ]
  },
  {
   "cell_type": "code",
   "execution_count": null,
   "id": "beeb912e",
   "metadata": {},
   "outputs": [],
   "source": [
    "# compute MAD and quantiles\n",
    "sp500['MAD'] = sp500['Close'].rolling(window=50).apply(lambda x: (x - x.mean()).abs().mean())\n",
    "print(sp500['MAD'].describe())\n",
    "# Plotting the Mean Absolute Deviation (MAD)\n",
    "plt.figure(figsize=(14, 7))\n",
    "plt.plot(sp500['MAD'], label='Mean Absolute Deviation (MAD)', color='cyan')\n",
    "plt.title('S&P 500 Mean Absolute Deviation (MAD)')\n",
    "plt.xlabel('Date')\n",
    "plt.ylabel('MAD')\n",
    "plt.legend()\n",
    "plt.grid()\n",
    "plt.show()      "
   ]
  },
  {
   "cell_type": "code",
   "execution_count": null,
   "id": "7cca3458",
   "metadata": {},
   "outputs": [],
   "source": [
    "# compute 5-day, 21-day and 63-day returns\n",
    "sp500['5-Day Return'] = sp500['Close'].pct_change(periods=5)\n",
    "sp500['21-Day Return'] = sp500['Close'].pct_change(periods=21)\n",
    "sp500['63-Day Return'] = sp500['Close'].pct_change(periods=63)\n",
    "\n",
    "#compute 20-day and 50-day moving average\n",
    "sp500['20-Day MA'] = sp500['Close'].rolling(window=20).mean()\n",
    "sp500['50-Day MA'] = sp500['Close'].rolling(window=50).mean()\n",
    "\n",
    "sp500['Signal'] = 0\n",
    "sp500.loc[sp500['20-Day MA'] > sp500['50-Day MA'], 'Signal'] = 1\n",
    "sp500.loc[sp500['20-Day MA'] < sp500['50-Day MA'], 'Signal'] = -1\n",
    "\n",
    "# Plotting the 20-day and 50-day moving averages with buy/sell signals\n",
    "plt.figure(figsize=(14, 7))\n",
    "plt.plot(sp500['Close'], label='S&P 500 Close Price', color='blue')\n",
    "plt.plot(sp500['20-Day MA'], label='20-Day MA', color='orange')\n",
    "plt.plot(sp500['50-Day MA'], label='50-Day MA', color='red')\n",
    "plt.scatter(sp500.index[sp500['Signal'] == 1], sp500['Close'][sp500['Signal'] == 1], label='Buy Signal', marker='^', color='green', s=100)\n",
    "plt.scatter(sp500.index[sp500['Signal'] == -1], sp500['Close'][sp500['Signal'] == -1], label='Sell Signal', marker='v', color='red', s=100)\n",
    "plt.title('S&P 500 Moving Averages with Buy/Sell Signals')\n",
    "plt.xlabel('Date')\n",
    "plt.ylabel('Price')\n",
    "plt.legend()\n",
    "plt.grid()\n",
    "plt.show()  "
   ]
  },
  {
   "cell_type": "markdown",
   "id": "89fbe712",
   "metadata": {},
   "source": [
    " Moving Average Crossover with Persistent Position\n",
    "In this implementation, we interpret the trading signals as entry and exit instructions, rather than one-day actions.\n",
    "\n",
    "Buy Signal (Signal = +1):\n",
    "Enter a long position when the 20-day moving average crosses above the 50-day moving average.\n",
    "\n",
    "Position Persistence:\n",
    "After entering, remain in the long position continuously (carry it forward) until a sell signal is generated.\n",
    "\n",
    "Sell Signal (Signal = -1):\n",
    "Exit the position (return to cash exposure) when the 20-day moving average crosses back below the 50-day moving average.\n",
    "\n",
    "Implementation:\n",
    "\n",
    "We initialize all positions to zero.\n",
    "When a buy signal occurs, the position is set to 1 (long).\n",
    "We use .ffill() to carry the position forward over time.\n",
    "When a sell signal occurs, the position resets to 0.\n",
    "\n",
    "The strategy returns are computed by multiplying the lagged position by the daily returns, simulating entering positions at the close following the signal.\n",
    "\n",
    "This approach is designed to capture sustained trends, remaining invested for the entire period between signals, rather than reacting to only the immediate day after each crossover.\n",
    "\n"
   ]
  },
  {
   "cell_type": "code",
   "execution_count": null,
   "id": "3f0bec8b",
   "metadata": {},
   "outputs": [],
   "source": [
    "\"\"\"\n",
    "A simple moving average crossover trading strategy and evaluate its performance \n",
    "relative to a passive buy-and-hold approach.\n",
    "\"\"\"\n",
    "\n",
    "# compute position based on the signals\n",
    "\n",
    "sp500['Position'] = 0\n",
    "sp500.loc[sp500['Signal'] == 1, 'Position'] = 1\n",
    "sp500['Position'] = sp500['Position'].ffill()  # carry forward position\n",
    "sp500.loc[sp500['Signal'] == -1, 'Position'] = 0\n",
    "\n",
    "# compute cumulative returns for buy and hold strategy\n",
    "sp500['Cumulative BuyHold'] = (1 + sp500['Daily Return']).cumprod()\n",
    "\n",
    "# compute strategy returns based on the position\n",
    "sp500['Strategy Return'] = sp500['Position'].shift(1) * sp500['Daily Return']\n",
    "# compute cumulative strategy returns\n",
    "sp500['Cumulative Strategy'] = (1 + sp500['Strategy Return']).cumprod()\n",
    "\n",
    "# Plotting the strategy returns\n",
    "plt.figure(figsize=(12, 6))\n",
    "plt.plot(sp500['Cumulative Strategy'], label='Strategy Returns', color='blue')\n",
    "plt.plot(sp500['Cumulative BuyHold'], label='Buy & Hold Returns', color='orange')\n",
    "plt.title('Cumulative Returns: Strategy vs. Buy & Hold')\n",
    "plt.xlabel('Date')\n",
    "plt.ylabel('Cumulative Return')\n",
    "plt.legend()\n",
    "plt.grid()\n",
    "plt.show()   \n"
   ]
  }
 ],
 "metadata": {
  "kernelspec": {
   "display_name": ".venv",
   "language": "python",
   "name": "python3"
  },
  "language_info": {
   "codemirror_mode": {
    "name": "ipython",
    "version": 3
   },
   "file_extension": ".py",
   "mimetype": "text/x-python",
   "name": "python",
   "nbconvert_exporter": "python",
   "pygments_lexer": "ipython3",
   "version": "3.12.3"
  }
 },
 "nbformat": 4,
 "nbformat_minor": 5
}
