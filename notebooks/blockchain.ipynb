{
 "cells": [
  {
   "cell_type": "markdown",
   "id": "1940a379",
   "metadata": {},
   "source": [
    "# Exploring DeFi Concepts: Token Wrapping, Staking & Arbitrage Signals\n",
    "\n",
    "\n",
    "This notebook explores some core DeFi mechanisms and simple algorithmic ideas using Python. Concepts include token wrapping, staking reward simulation, and a basic arbitrage signal logic.\n",
    "\n",
    "## Table of Contents\n",
    "TBD "
   ]
  },
  {
   "cell_type": "markdown",
   "id": "5144dcc1",
   "metadata": {},
   "source": [
    "\n"
   ]
  },
  {
   "cell_type": "code",
   "execution_count": null,
   "id": "3387b992",
   "metadata": {},
   "outputs": [],
   "source": [
    "from web3 import Web3\n",
    "import solcx"
   ]
  },
  {
   "cell_type": "code",
   "execution_count": null,
   "id": "0c8b63dd",
   "metadata": {},
   "outputs": [],
   "source": [
    "# simple web3.py example using EthereumTesterProvider\n",
    "# This script connects to a local Ethereum test network, checks account balances,\n",
    "# sends a transaction, and retrieves the transaction details.\n",
    "\n",
    "w3 = Web3(Web3.EthereumTesterProvider())\n",
    "print(f\"connection check: {w3.is_connected()}\")\n",
    "print(f\"account number zero: {w3.eth.accounts[0]}\")\n",
    "balance = w3.eth.get_balance(w3.eth.accounts[0])\n",
    "print(f\"Balance: {Web3.from_wei(balance, 'ether')} ETH\")\n",
    "print(f\"Balance in Gwei: {Web3.from_wei(balance, 'gwei')} Gwei\")\n",
    "print(f\"Balance in Wei: {balance} Wei\")\n",
    "\n",
    "w3.eth.get_block('latest')\n",
    "\n",
    "tx_hash = w3.eth.send_transaction({\n",
    "   'from': w3.eth.accounts[0],\n",
    "   'to': w3.eth.accounts[1],\n",
    "   'value': w3.to_wei(3, 'ether'),\n",
    "   'gas': 21000,  \n",
    "   'gasPrice': w3.to_wei(20, 'gwei')\n",
    "})\n",
    "\n",
    "print(f\"Transaction Hash: {tx_hash.hex()}\")\n",
    "print(f\"Transaction Details: {w3.eth.get_transaction(tx_hash)}\")\n",
    "print(f\"New Balance of acc 0: {Web3.from_wei(w3.eth.get_balance(w3.eth.accounts[0]), 'ether')} ETH\")\n",
    "\n",
    "print(f\"New Balance of acc 1: {Web3.from_wei(w3.eth.get_balance(w3.eth.accounts[1]), 'ether')} ETH\")"
   ]
  },
  {
   "cell_type": "markdown",
   "id": "afe1a4fd",
   "metadata": {},
   "source": [
    "## Concept 1: Lock-and-Mint Simulation (Wrapped Tokens)"
   ]
  },
  {
   "cell_type": "code",
   "execution_count": null,
   "id": "0291e87b",
   "metadata": {},
   "outputs": [],
   "source": [
    "solcx.install_solc('0.8.0') \n",
    "solcx.set_solc_version('0.8.0')"
   ]
  },
  {
   "cell_type": "code",
   "execution_count": null,
   "id": "0ee79860",
   "metadata": {},
   "outputs": [],
   "source": [
    "# Solidity code for a simple storage contract\n",
    "# This contract allows storing a favorite number and associating names with numbers.\n",
    "# It also provides functions to retrieve the stored number and add people with their favorite numbers.  \\\n",
    "    \n",
    "solidity_code = ''' \n",
    "pragma solidity >=0.6.0 <0.9.0;\n",
    "\n",
    "contract SimpleStorage {\n",
    "\n",
    "    uint256 favoriteNumber;\n",
    "\n",
    "    struct People {\n",
    "        uint256 favoriteNumber;\n",
    "        string name;\n",
    "    }\n",
    "\n",
    "    People[] public people;\n",
    "    mapping(string => uint256) public nameToFavoriteNumber;\n",
    "\n",
    "    function store(uint256 _favoriteNumber) public {\n",
    "        favoriteNumber = _favoriteNumber;\n",
    "    }\n",
    "    \n",
    "    function retrieve() public view returns (uint256){\n",
    "        return favoriteNumber;\n",
    "    }\n",
    "\n",
    "    function addPerson(string memory _name, uint256 _favoriteNumber) public {\n",
    "        people.push(People(_favoriteNumber, _name));\n",
    "        nameToFavoriteNumber[_name] = _favoriteNumber;\n",
    "    }\n",
    "}\n",
    "'''\n",
    "\n",
    "# Compile the Solidity code\n",
    "\n",
    "compiled_sol = solcx.compile_source(\n",
    "    solidity_code,\n",
    "    output_values=[\"abi\", \"bin\"]\n",
    ")\n",
    "\n",
    "# Get contract interface\n",
    "contract_id, contract_interface = compiled_sol.popitem()\n",
    "\n",
    "# Access ABI and bytecode\n",
    "abi = contract_interface['abi']\n",
    "bytecode = contract_interface['bin']\n",
    "\n",
    "# Print the ABI for verification\n",
    "print(\"Contract ABI:\")  \n",
    "from pprint import pprint\n",
    "pprint(abi)\n"
   ]
  },
  {
   "cell_type": "code",
   "execution_count": null,
   "id": "743ca1e8",
   "metadata": {},
   "outputs": [],
   "source": [
    "# Set default account for transactions\n",
    "w3.eth.default_account = w3.eth.accounts[0]\n",
    "\n",
    "# Create contract in Python\n",
    "SimpleStorage = w3.eth.contract(abi=abi, bytecode=bytecode)\n",
    "\n",
    "# Deploy the contract\n",
    "tx_hash = SimpleStorage.constructor().transact()\n",
    "tx_receipt = w3.eth.wait_for_transaction_receipt(tx_hash)\n",
    "\n",
    "# Get the deployed contract instance\n",
    "contract_instance = w3.eth.contract(\n",
    "    address=tx_receipt.contractAddress,\n",
    "    abi=abi\n",
    ")\n",
    "\n",
    "print(\"Contract deployed at:\", tx_receipt.contractAddress)\n",
    "\n",
    "# Call store() to set favoriteNumber = 42\n",
    "tx_hash = contract_instance.functions.store(42).transact()\n",
    "w3.eth.wait_for_transaction_receipt(tx_hash)\n",
    "\n",
    "# Call retrieve() to get it back\n",
    "retrieved_number = contract_instance.functions.retrieve().call()\n",
    "print(\"Retrieved favorite number:\", retrieved_number)\n",
    "\n",
    "# Add a person to the array\n",
    "tx_hash = contract_instance.functions.addPerson(\"Alice\", 99).transact()\n",
    "w3.eth.wait_for_transaction_receipt(tx_hash)\n",
    "\n",
    "# Check the mapping\n",
    "fav_number = contract_instance.functions.nameToFavoriteNumber(\"Alice\").call()\n",
    "print(\"Alice's favorite number:\", fav_number)\n",
    "\n",
    "# Access the first entry in the people array\n",
    "person = contract_instance.functions.people(0).call()\n",
    "print(\"Person stored:\", person)"
   ]
  }
 ],
 "metadata": {
  "kernelspec": {
   "display_name": ".venv",
   "language": "python",
   "name": "python3"
  },
  "language_info": {
   "codemirror_mode": {
    "name": "ipython",
    "version": 3
   },
   "file_extension": ".py",
   "mimetype": "text/x-python",
   "name": "python",
   "nbconvert_exporter": "python",
   "pygments_lexer": "ipython3",
   "version": "3.12.3"
  }
 },
 "nbformat": 4,
 "nbformat_minor": 5
}
