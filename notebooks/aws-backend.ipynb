{
 "cells": [
  {
   "cell_type": "markdown",
   "id": "d9a33aca",
   "metadata": {},
   "source": [
    "### 1. Hello-world lambda function"
   ]
  },
  {
   "cell_type": "code",
   "execution_count": 1,
   "id": "cd8d2f33",
   "metadata": {},
   "outputs": [],
   "source": [
    "import json\n",
    "import logging\n",
    "\n",
    "logger = logging.getLogger()\n",
    "logger.setLevel(logging.INFO)\n",
    "\n",
    "def lambda_handler(event, context):\n",
    "    \n",
    "    # Get the length and width parameters from the event object. The \n",
    "    # runtime converts the event object to a Python dictionary\n",
    "    length = event['length']\n",
    "    width = event['width']\n",
    "    \n",
    "    area = calculate_area(length, width)\n",
    "    print(f\"The area is {area}\")\n",
    "        \n",
    "    logger.info(f\"CloudWatch logs group: {context.log_group_name}\")\n",
    "    \n",
    "    # return the calculated area as a JSON string\n",
    "    data = {\"area\": area}\n",
    "    return json.dumps(data)\n",
    "    \n",
    "def calculate_area(length, width):\n",
    "    return length*width"
   ]
  }
 ],
 "metadata": {
  "kernelspec": {
   "display_name": ".venv",
   "language": "python",
   "name": "python3"
  },
  "language_info": {
   "codemirror_mode": {
    "name": "ipython",
    "version": 3
   },
   "file_extension": ".py",
   "mimetype": "text/x-python",
   "name": "python",
   "nbconvert_exporter": "python",
   "pygments_lexer": "ipython3",
   "version": "3.12.3"
  }
 },
 "nbformat": 4,
 "nbformat_minor": 5
}
